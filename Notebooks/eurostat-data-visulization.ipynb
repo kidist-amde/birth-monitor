{
 "cells": [
  {
   "cell_type": "code",
   "execution_count": 1,
   "metadata": {},
   "outputs": [],
   "source": [
    "import pandas as pd\n",
    "import numpy as np\n",
    "import json\n",
    "import re\n",
    "from tqdm.notebook import tqdm\n",
    "import pymongo\n",
    "from collections import Counter\n"
   ]
  },
  {
   "cell_type": "code",
   "execution_count": 2,
   "metadata": {},
   "outputs": [],
   "source": [
    "import matplotlib.pyplot as plt\n",
    "import seaborn as sns\n",
    "from wordcloud import WordCloud\n",
    "from collections import defaultdict\n",
    "import pycountry\n",
    "import plotly.express as px\n"
   ]
  },
  {
   "cell_type": "code",
   "execution_count": 3,
   "metadata": {},
   "outputs": [
    {
     "data": {
      "text/html": [
       "<div>\n",
       "<style scoped>\n",
       "    .dataframe tbody tr th:only-of-type {\n",
       "        vertical-align: middle;\n",
       "    }\n",
       "\n",
       "    .dataframe tbody tr th {\n",
       "        vertical-align: top;\n",
       "    }\n",
       "\n",
       "    .dataframe thead th {\n",
       "        text-align: right;\n",
       "    }\n",
       "</style>\n",
       "<table border=\"1\" class=\"dataframe\">\n",
       "  <thead>\n",
       "    <tr style=\"text-align: right;\">\n",
       "      <th></th>\n",
       "      <th>TIME</th>\n",
       "      <th>GEO</th>\n",
       "      <th>MONTH</th>\n",
       "      <th>UNIT</th>\n",
       "      <th>Value</th>\n",
       "      <th>Flag and Footnotes</th>\n",
       "    </tr>\n",
       "  </thead>\n",
       "  <tbody>\n",
       "    <tr>\n",
       "      <th>0</th>\n",
       "      <td>2011</td>\n",
       "      <td>Belgium</td>\n",
       "      <td>January</td>\n",
       "      <td>Number</td>\n",
       "      <td>10759.0</td>\n",
       "      <td>NaN</td>\n",
       "    </tr>\n",
       "    <tr>\n",
       "      <th>1</th>\n",
       "      <td>2011</td>\n",
       "      <td>Belgium</td>\n",
       "      <td>February</td>\n",
       "      <td>Number</td>\n",
       "      <td>9739.0</td>\n",
       "      <td>NaN</td>\n",
       "    </tr>\n",
       "    <tr>\n",
       "      <th>2</th>\n",
       "      <td>2011</td>\n",
       "      <td>Belgium</td>\n",
       "      <td>March</td>\n",
       "      <td>Number</td>\n",
       "      <td>10725.0</td>\n",
       "      <td>NaN</td>\n",
       "    </tr>\n",
       "    <tr>\n",
       "      <th>3</th>\n",
       "      <td>2011</td>\n",
       "      <td>Belgium</td>\n",
       "      <td>April</td>\n",
       "      <td>Number</td>\n",
       "      <td>10268.0</td>\n",
       "      <td>NaN</td>\n",
       "    </tr>\n",
       "    <tr>\n",
       "      <th>4</th>\n",
       "      <td>2011</td>\n",
       "      <td>Belgium</td>\n",
       "      <td>May</td>\n",
       "      <td>Number</td>\n",
       "      <td>11116.0</td>\n",
       "      <td>NaN</td>\n",
       "    </tr>\n",
       "  </tbody>\n",
       "</table>\n",
       "</div>"
      ],
      "text/plain": [
       "   TIME      GEO     MONTH    UNIT    Value Flag and Footnotes\n",
       "0  2011  Belgium   January  Number  10759.0                NaN\n",
       "1  2011  Belgium  February  Number   9739.0                NaN\n",
       "2  2011  Belgium     March  Number  10725.0                NaN\n",
       "3  2011  Belgium     April  Number  10268.0                NaN\n",
       "4  2011  Belgium       May  Number  11116.0                NaN"
      ]
     },
     "execution_count": 3,
     "metadata": {},
     "output_type": "execute_result"
    }
   ],
   "source": [
    "df = pd.read_csv(\"demo_fmonth/demo_fmonth_1_Data.csv\")\n",
    "# change the string type to float and replace Null value with 0\n",
    "df.Value = df.Value.apply(lambda x: 0 if x == \":\" else float(x.replace(\",\",\"\")))\n",
    "df.head()"
   ]
  },
  {
   "cell_type": "code",
   "execution_count": 4,
   "metadata": {},
   "outputs": [],
   "source": [
    "months  = ['January', 'February', 'March', 'April', 'May', 'June', 'July', 'August',\n",
    " 'September', 'October', 'November', 'December']\n",
    "\n"
   ]
  },
  {
   "cell_type": "code",
   "execution_count": 5,
   "metadata": {},
   "outputs": [
    {
     "data": {
      "text/plain": [
       "array(['Belgium', 'Bulgaria', 'Czechia', 'Denmark',\n",
       "       'Germany (until 1990 former territory of the FRG)',\n",
       "       'Germany including former GDR', 'Estonia', 'Ireland', 'Greece',\n",
       "       'Spain', 'France', 'France (metropolitan)', 'Croatia', 'Italy',\n",
       "       'Cyprus', 'Latvia', 'Lithuania', 'Luxembourg', 'Hungary', 'Malta',\n",
       "       'Netherlands', 'Austria', 'Poland', 'Portugal', 'Romania',\n",
       "       'Slovenia', 'Slovakia', 'Finland', 'Sweden', 'Iceland',\n",
       "       'Liechtenstein', 'Norway', 'Switzerland', 'United Kingdom',\n",
       "       'Montenegro', 'North Macedonia', 'Albania', 'Serbia', 'Turkey',\n",
       "       'Andorra', 'Belarus', 'Bosnia and Herzegovina',\n",
       "       'Kosovo (under United Nations Security Council Resolution 1244/99)',\n",
       "       'Moldova', 'Monaco', 'Russia', 'San Marino', 'Ukraine', 'Armenia',\n",
       "       'Azerbaijan', 'Georgia'], dtype=object)"
      ]
     },
     "execution_count": 5,
     "metadata": {},
     "output_type": "execute_result"
    }
   ],
   "source": [
    "df.GEO.unique()"
   ]
  },
  {
   "cell_type": "code",
   "execution_count": 6,
   "metadata": {},
   "outputs": [
    {
     "data": {
      "text/plain": [
       "('2011_January', 911256.0)"
      ]
     },
     "execution_count": 6,
     "metadata": {},
     "output_type": "execute_result"
    }
   ],
   "source": [
    "# total birth of each month of country \n",
    "monthly_birth_rate = defaultdict(int)\n",
    "for index, row in df.iterrows():\n",
    "#     if row[\"GEO\"].lower() == \"italy\":\n",
    "        month = \"{}_{}\".format(row[\"TIME\"],row[\"MONTH\"])\n",
    "        monthly_birth_rate[month] += row['Value']\n",
    "list(monthly_birth_rate.items())[0]"
   ]
  },
  {
   "cell_type": "code",
   "execution_count": 7,
   "metadata": {},
   "outputs": [],
   "source": [
    "# put the months of each year in order \n",
    "ordered_months = []\n",
    "for year in range(2011,2022):\n",
    "    for m in range(len(months)):\n",
    "        month_name = months[m]\n",
    "        month = \"{}_{}\".format(year,month_name)\n",
    "        # select only months exist in both data\n",
    "        if month in  monthly_birth_rate:\n",
    "            ordered_months.append(month) \n",
    "# ordered_months"
   ]
  },
  {
   "cell_type": "code",
   "execution_count": 8,
   "metadata": {},
   "outputs": [
    {
     "data": {
      "text/plain": [
       "<BarContainer object of 120 artists>"
      ]
     },
     "execution_count": 8,
     "metadata": {},
     "output_type": "execute_result"
    },
    {
     "data": {
      "image/png": "[encoded data removed]",
      "text/plain": [
       "<Figure size 1008x432 with 1 Axes>"
      ]
     },
     "metadata": {
      "needs_background": "light"
     },
     "output_type": "display_data"
    }
   ],
   "source": [
    "# show the number of birth each month \n",
    "x = ordered_months\n",
    "height = [monthly_birth_rate[month] for month in x]\n",
    "plt.figure(figsize=(14,6))\n",
    "plt.xlabel(\"month index (starting from January 2011)\")\n",
    "plt.ylabel(\"Eurostat number of birth rate per month\")\n",
    "plt.bar(x = list(range( len(x))),height = height)"
   ]
  },
  {
   "cell_type": "code",
   "execution_count": 9,
   "metadata": {},
   "outputs": [],
   "source": [
    "eu_countries = df.GEO.unique().tolist()\n",
    "# eu_countries"
   ]
  },
  {
   "cell_type": "code",
   "execution_count": 10,
   "metadata": {},
   "outputs": [],
   "source": [
    "alpha3s = {}\n",
    "isoCods = {}\n",
    "for country in pycountry.countries:\n",
    "    alpha3s[country.name] = country.alpha_3\n",
    "    isoCods[country.name] = country.alpha_2\n"
   ]
  },
  {
   "cell_type": "code",
   "execution_count": 17,
   "metadata": {},
   "outputs": [],
   "source": [
    "\n",
    "def plot_map(dd_df, title):\n",
    "    hover_text = []\n",
    "    for index, row in dd_df.iterrows():\n",
    "        hover_text.append((f\"country: {row['country']}<br>birth-rates: {row['birth-rates']}\\\n",
    "                          <br>country code: {row['iso']}<br>country alpha3: {row['alpha3']}\"))\n",
    "    dd_df['hover_text'] = hover_text\n",
    "\n",
    "    fig = px.choropleth(dd_df, \n",
    "                        locations=\"alpha3\",\n",
    "                        hover_name='hover_text',\n",
    "                        color=\"birth-rates\",\n",
    "                        projection=\"natural earth\",\n",
    "                        color_continuous_scale=px.colors.sequential.Plasma,\n",
    "                        width=900, height=700)\n",
    "    fig.update_geos(   \n",
    "        showcoastlines=True, coastlinecolor=\"DarkBlue\",\n",
    "        scope =  \"europe\",\n",
    "        resolution = 110,\n",
    "        visible = False,\n",
    "        showland=True, landcolor=\"LightGrey\",\n",
    "        showocean=True, oceancolor=\"LightBlue\",\n",
    "        showlakes=True, lakecolor=\"Blue\",\n",
    "        showrivers=True, rivercolor=\"Blue\",\n",
    "        showcountries=True, countrycolor=\"DarkBlue\"\n",
    "    )\n",
    "    fig.update_layout(title = title, geo_scope=\"world\")\n",
    "    fig.show()  "
   ]
  },
  {
   "cell_type": "code",
   "execution_count": 18,
   "metadata": {},
   "outputs": [],
   "source": [
    "countries_birth_rate = defaultdict(int)\n",
    "for index,row in df.iterrows():\n",
    "    c = row[\"GEO\"]\n",
    "    value = row[\"Value\"]\n",
    "    countries_birth_rate[c]+=value\n",
    "    "
   ]
  },
  {
   "cell_type": "code",
   "execution_count": 19,
   "metadata": {},
   "outputs": [
    {
     "data": {
      "text/html": [
       "<div>\n",
       "<style scoped>\n",
       "    .dataframe tbody tr th:only-of-type {\n",
       "        vertical-align: middle;\n",
       "    }\n",
       "\n",
       "    .dataframe tbody tr th {\n",
       "        vertical-align: top;\n",
       "    }\n",
       "\n",
       "    .dataframe thead th {\n",
       "        text-align: right;\n",
       "    }\n",
       "</style>\n",
       "<table border=\"1\" class=\"dataframe\">\n",
       "  <thead>\n",
       "    <tr style=\"text-align: right;\">\n",
       "      <th></th>\n",
       "      <th>country</th>\n",
       "      <th>birth-rates</th>\n",
       "      <th>alpha3</th>\n",
       "      <th>iso</th>\n",
       "    </tr>\n",
       "  </thead>\n",
       "  <tbody>\n",
       "    <tr>\n",
       "      <th>0</th>\n",
       "      <td>Belgium</td>\n",
       "      <td>1184652.0</td>\n",
       "      <td>BEL</td>\n",
       "      <td>BE</td>\n",
       "    </tr>\n",
       "    <tr>\n",
       "      <th>1</th>\n",
       "      <td>Bulgaria</td>\n",
       "      <td>651372.0</td>\n",
       "      <td>BGR</td>\n",
       "      <td>BG</td>\n",
       "    </tr>\n",
       "    <tr>\n",
       "      <th>2</th>\n",
       "      <td>Czechia</td>\n",
       "      <td>1051738.0</td>\n",
       "      <td>CZE</td>\n",
       "      <td>CZ</td>\n",
       "    </tr>\n",
       "    <tr>\n",
       "      <th>3</th>\n",
       "      <td>Denmark</td>\n",
       "      <td>579910.0</td>\n",
       "      <td>DNK</td>\n",
       "      <td>DK</td>\n",
       "    </tr>\n",
       "    <tr>\n",
       "      <th>4</th>\n",
       "      <td>Estonia</td>\n",
       "      <td>132517.0</td>\n",
       "      <td>EST</td>\n",
       "      <td>EE</td>\n",
       "    </tr>\n",
       "  </tbody>\n",
       "</table>\n",
       "</div>"
      ],
      "text/plain": [
       "    country  birth-rates alpha3 iso\n",
       "0   Belgium    1184652.0    BEL  BE\n",
       "1  Bulgaria     651372.0    BGR  BG\n",
       "2   Czechia    1051738.0    CZE  CZ\n",
       "3   Denmark     579910.0    DNK  DK\n",
       "4   Estonia     132517.0    EST  EE"
      ]
     },
     "execution_count": 19,
     "metadata": {},
     "output_type": "execute_result"
    }
   ],
   "source": [
    "d = {\"country\":[],\"birth-rates\":[],\"alpha3\":[],\"iso\":[]}\n",
    "for c in eu_countries:\n",
    "    if c in alpha3s:\n",
    "        alpha3_ = alpha3s.get(c)\n",
    "        d[\"country\"].append(c)\n",
    "        d[\"birth-rates\"].append(countries_birth_rate[c])\n",
    "        d[\"alpha3\"].append(alpha3_)\n",
    "        d[\"iso\"].append(isoCods.get(c))\n",
    "eu_df = pd.DataFrame(d)\n",
    "eu_df.head()"
   ]
  },
  {
   "cell_type": "code",
   "execution_count": 20,
   "metadata": {},
   "outputs": [
    {
     "data": {
      "application/vnd.plotly.v1+json": {
       "config": {
        "plotlyServerURL": "https://plot.ly"
       },
       "data": [
        {
         "coloraxis": "coloraxis",
         "geo": "geo",
         "hovertemplate": "<b>%{hovertext}</b><br><br>alpha3=%{location}<br>birth-rates=%{z}<extra></extra>",
         "hovertext": [
          "country: Belgium<br>birth-rates: 1184652.0                          <br>country code: BE<br>country alpha3: BEL",
          "country: Bulgaria<br>birth-rates: 651372.0                          <br>country code: BG<br>country alpha3: BGR",
          "country: Czechia<br>birth-rates: 1051738.0                          <br>country code: CZ<br>country alpha3: CZE",
          "country: Denmark<br>birth-rates: 579910.0                          <br>country code: DK<br>country alpha3: DNK",
          "country: Estonia<br>birth-rates: 132517.0                          <br>country code: EE<br>country alpha3: EST",
          "country: Ireland<br>birth-rates: 621366.0                          <br>country code: IE<br>country alpha3: IRL",
          "country: Greece<br>birth-rates: 907337.0                          <br>country code: GR<br>country alpha3: GRC",
          "country: Spain<br>birth-rates: 3886883.0                          <br>country code: ES<br>country alpha3: ESP",
          "country: France<br>birth-rates: 7763326.0                          <br>country code: FR<br>country alpha3: FRA",
          "country: Croatia<br>birth-rates: 377356.0                          <br>country code: HR<br>country alpha3: HRV",
          "country: Italy<br>birth-rates: 4642671.0                          <br>country code: IT<br>country alpha3: ITA",
          "country: Cyprus<br>birth-rates: 89444.0                          <br>country code: CY<br>country alpha3: CYP",
          "country: Latvia<br>birth-rates: 198817.0                          <br>country code: LV<br>country alpha3: LVA",
          "country: Lithuania<br>birth-rates: 292159.0                          <br>country code: LT<br>country alpha3: LTU",
          "country: Luxembourg<br>birth-rates: 59434.0                          <br>country code: LU<br>country alpha3: LUX",
          "country: Hungary<br>birth-rates: 925532.0                          <br>country code: HU<br>country alpha3: HUN",
          "country: Malta<br>birth-rates: 42955.0                          <br>country code: MT<br>country alpha3: MLT",
          "country: Netherlands<br>birth-rates: 1680489.0                          <br>country code: NL<br>country alpha3: NLD",
          "country: Austria<br>birth-rates: 811461.0                          <br>country code: AT<br>country alpha3: AUT",
          "country: Poland<br>birth-rates: 3709015.0                          <br>country code: PL<br>country alpha3: POL",
          "country: Portugal<br>birth-rates: 847120.0                          <br>country code: PT<br>country alpha3: PRT",
          "country: Romania<br>birth-rates: 1983912.0                          <br>country code: RO<br>country alpha3: ROU",
          "country: Slovenia<br>birth-rates: 200284.0                          <br>country code: SI<br>country alpha3: SVN",
          "country: Slovakia<br>birth-rates: 554797.0                          <br>country code: SK<br>country alpha3: SVK",
          "country: Finland<br>birth-rates: 533081.0                          <br>country code: FI<br>country alpha3: FIN",
          "country: Sweden<br>birth-rates: 1144590.0                          <br>country code: SE<br>country alpha3: SWE",
          "country: Iceland<br>birth-rates: 42101.0                          <br>country code: IS<br>country alpha3: ISL",
          "country: Liechtenstein<br>birth-rates: 3546.0                          <br>country code: LI<br>country alpha3: LIE",
          "country: Norway<br>birth-rates: 576201.0                          <br>country code: NO<br>country alpha3: NOR",
          "country: Switzerland<br>birth-rates: 827795.0                          <br>country code: CH<br>country alpha3: CHE",
          "country: United Kingdom<br>birth-rates: 6562161.0                          <br>country code: GB<br>country alpha3: GBR",
          "country: Montenegro<br>birth-rates: 71846.0                          <br>country code: ME<br>country alpha3: MNE",
          "country: North Macedonia<br>birth-rates: 216008.0                          <br>country code: MK<br>country alpha3: MKD",
          "country: Albania<br>birth-rates: 243958.0                          <br>country code: AL<br>country alpha3: ALB",
          "country: Serbia<br>birth-rates: 640282.0                          <br>country code: RS<br>country alpha3: SRB",
          "country: Turkey<br>birth-rates: 11500950.0                          <br>country code: TR<br>country alpha3: TUR",
          "country: Andorra<br>birth-rates: 2073.0                          <br>country code: AD<br>country alpha3: AND",
          "country: Belarus<br>birth-rates: 894976.0                          <br>country code: BY<br>country alpha3: BLR",
          "country: Bosnia and Herzegovina<br>birth-rates: 32547.0                          <br>country code: BA<br>country alpha3: BIH",
          "country: Monaco<br>birth-rates: 0.0                          <br>country code: MC<br>country alpha3: MCO",
          "country: San Marino<br>birth-rates: 520.0                          <br>country code: SM<br>country alpha3: SMR",
          "country: Ukraine<br>birth-rates: 3810335.0                          <br>country code: UA<br>country alpha3: UKR",
          "country: Armenia<br>birth-rates: 235701.0                          <br>country code: AM<br>country alpha3: ARM",
          "country: Azerbaijan<br>birth-rates: 1267519.0                          <br>country code: AZ<br>country alpha3: AZE",
          "country: Georgia<br>birth-rates: 445072.0                          <br>country code: GE<br>country alpha3: GEO"
         ],
         "locations": [
          "BEL",
          "BGR",
          "CZE",
          "DNK",
          "EST",
          "IRL",
          "GRC",
          "ESP",
          "FRA",
          "HRV",
          "ITA",
          "CYP",
          "LVA",
          "LTU",
          "LUX",
          "HUN",
          "MLT",
          "NLD",
          "AUT",
          "POL",
          "PRT",
          "ROU",
          "SVN",
          "SVK",
          "FIN",
          "SWE",
          "ISL",
          "LIE",
          "NOR",
          "CHE",
          "GBR",
          "MNE",
          "MKD",
          "ALB",
          "SRB",
          "TUR",
          "AND",
          "BLR",
          "BIH",
          "MCO",
          "SMR",
          "UKR",
          "ARM",
          "AZE",
          "GEO"
         ],
         "name": "",
         "type": "choropleth",
         "z": [
          1184652,
          651372,
          1051738,
          579910,
          132517,
          621366,
          907337,
          3886883,
          7763326,
          377356,
          4642671,
          89444,
          198817,
          292159,
          59434,
          925532,
          42955,
          1680489,
          811461,
          3709015,
          847120,
          1983912,
          200284,
          554797,
          533081,
          1144590,
          42101,
          3546,
          576201,
          827795,
          6562161,
          71846,
          216008,
          243958,
          640282,
          11500950,
          2073,
          894976,
          32547,
          0,
          520,
          3810335,
          235701,
          1267519,
          445072
         ]
        }
       ],
       "layout": {
        "coloraxis": {
         "colorbar": {
          "title": {
           "text": "birth-rates"
          }
         },
         "colorscale": [
          [
           0,
           "#0d0887"
          ],
          [
           0.1111111111111111,
           "#46039f"
          ],
          [
           0.2222222222222222,
           "#7201a8"
          ],
          [
           0.3333333333333333,
           "#9c179e"
          ],
          [
           0.4444444444444444,
           "#bd3786"
          ],
          [
           0.5555555555555556,
           "#d8576b"
          ],
          [
           0.6666666666666666,
           "#ed7953"
          ],
          [
           0.7777777777777778,
           "#fb9f3a"
          ],
          [
           0.8888888888888888,
           "#fdca26"
          ],
          [
           1,
           "#f0f921"
          ]
         ]
        },
        "geo": {
         "center": {},
         "coastlinecolor": "DarkBlue",
         "countrycolor": "DarkBlue",
         "domain": {
          "x": [
           0,
           1
          ],
          "y": [
           0,
           1
          ]
         },
         "lakecolor": "Blue",
         "landcolor": "LightGrey",
         "oceancolor": "LightBlue",
         "projection": {
          "type": "natural earth"
         },
         "resolution": 110,
         "rivercolor": "Blue",
         "scope": "world",
         "showcoastlines": true,
         "showcountries": true,
         "showlakes": true,
         "showland": true,
         "showocean": true,
         "showrivers": true,
         "visible": false
        },
        "height": 700,
        "legend": {
         "tracegroupgap": 0
        },
        "margin": {
         "t": 60
        },
        "template": {
         "data": {
          "bar": [
           {
            "error_x": {
             "color": "#2a3f5f"
            },
            "error_y": {
             "color": "#2a3f5f"
            },
            "marker": {
             "line": {
              "color": "#E5ECF6",
              "width": 0.5
             }
            },
            "type": "bar"
           }
          ],
          "barpolar": [
           {
            "marker": {
             "line": {
              "color": "#E5ECF6",
              "width": 0.5
             }
            },
            "type": "barpolar"
           }
          ],
          "carpet": [
           {
            "aaxis": {
             "endlinecolor": "#2a3f5f",
             "gridcolor": "white",
             "linecolor": "white",
             "minorgridcolor": "white",
             "startlinecolor": "#2a3f5f"
            },
            "baxis": {
             "endlinecolor": "#2a3f5f",
             "gridcolor": "white",
             "linecolor": "white",
             "minorgridcolor": "white",
             "startlinecolor": "#2a3f5f"
            },
            "type": "carpet"
           }
          ],
          "choropleth": [
           {
            "colorbar": {
             "outlinewidth": 0,
             "ticks": ""
            },
            "type": "choropleth"
           }
          ],
          "contour": [
           {
            "colorbar": {
             "outlinewidth": 0,
             "ticks": ""
            },
            "colorscale": [
             [
              0,
              "#0d0887"
             ],
             [
              0.1111111111111111,
              "#46039f"
             ],
             [
              0.2222222222222222,
              "#7201a8"
             ],
             [
              0.3333333333333333,
              "#9c179e"
             ],
             [
              0.4444444444444444,
              "#bd3786"
             ],
             [
              0.5555555555555556,
              "#d8576b"
             ],
             [
              0.6666666666666666,
              "#ed7953"
             ],
             [
              0.7777777777777778,
              "#fb9f3a"
             ],
             [
              0.8888888888888888,
              "#fdca26"
             ],
             [
              1,
              "#f0f921"
             ]
            ],
            "type": "contour"
           }
          ],
          "contourcarpet": [
           {
            "colorbar": {
             "outlinewidth": 0,
             "ticks": ""
            },
            "type": "contourcarpet"
           }
          ],
          "heatmap": [
           {
            "colorbar": {
             "outlinewidth": 0,
             "ticks": ""
            },
            "colorscale": [
             [
              0,
              "#0d0887"
             ],
             [
              0.1111111111111111,
              "#46039f"
             ],
             [
              0.2222222222222222,
              "#7201a8"
             ],
             [
              0.3333333333333333,
              "#9c179e"
             ],
             [
              0.4444444444444444,
              "#bd3786"
             ],
             [
              0.5555555555555556,
              "#d8576b"
             ],
             [
              0.6666666666666666,
              "#ed7953"
             ],
             [
              0.7777777777777778,
              "#fb9f3a"
             ],
             [
              0.8888888888888888,
              "#fdca26"
             ],
             [
              1,
              "#f0f921"
             ]
            ],
            "type": "heatmap"
           }
          ],
          "heatmapgl": [
           {
            "colorbar": {
             "outlinewidth": 0,
             "ticks": ""
            },
            "colorscale": [
             [
              0,
              "#0d0887"
             ],
             [
              0.1111111111111111,
              "#46039f"
             ],
             [
              0.2222222222222222,
              "#7201a8"
             ],
             [
              0.3333333333333333,
              "#9c179e"
             ],
             [
              0.4444444444444444,
              "#bd3786"
             ],
             [
              0.5555555555555556,
              "#d8576b"
             ],
             [
              0.6666666666666666,
              "#ed7953"
             ],
             [
              0.7777777777777778,
              "#fb9f3a"
             ],
             [
              0.8888888888888888,
              "#fdca26"
             ],
             [
              1,
              "#f0f921"
             ]
            ],
            "type": "heatmapgl"
           }
          ],
          "histogram": [
           {
            "marker": {
             "colorbar": {
              "outlinewidth": 0,
              "ticks": ""
             }
            },
            "type": "histogram"
           }
          ],
          "histogram2d": [
           {
            "colorbar": {
             "outlinewidth": 0,
             "ticks": ""
            },
            "colorscale": [
             [
              0,
              "#0d0887"
             ],
             [
              0.1111111111111111,
              "#46039f"
             ],
             [
              0.2222222222222222,
              "#7201a8"
             ],
             [
              0.3333333333333333,
              "#9c179e"
             ],
             [
              0.4444444444444444,
              "#bd3786"
             ],
             [
              0.5555555555555556,
              "#d8576b"
             ],
             [
              0.6666666666666666,
              "#ed7953"
             ],
             [
              0.7777777777777778,
              "#fb9f3a"
             ],
             [
              0.8888888888888888,
              "#fdca26"
             ],
             [
              1,
              "#f0f921"
             ]
            ],
            "type": "histogram2d"
           }
          ],
          "histogram2dcontour": [
           {
            "colorbar": {
             "outlinewidth": 0,
             "ticks": ""
            },
            "colorscale": [
             [
              0,
              "#0d0887"
             ],
             [
              0.1111111111111111,
              "#46039f"
             ],
             [
              0.2222222222222222,
              "#7201a8"
             ],
             [
              0.3333333333333333,
              "#9c179e"
             ],
             [
              0.4444444444444444,
              "#bd3786"
             ],
             [
              0.5555555555555556,
              "#d8576b"
             ],
             [
              0.6666666666666666,
              "#ed7953"
             ],
             [
              0.7777777777777778,
              "#fb9f3a"
             ],
             [
              0.8888888888888888,
              "#fdca26"
             ],
             [
              1,
              "#f0f921"
             ]
            ],
            "type": "histogram2dcontour"
           }
          ],
          "mesh3d": [
           {
            "colorbar": {
             "outlinewidth": 0,
             "ticks": ""
            },
            "type": "mesh3d"
           }
          ],
          "parcoords": [
           {
            "line": {
             "colorbar": {
              "outlinewidth": 0,
              "ticks": ""
             }
            },
            "type": "parcoords"
           }
          ],
          "pie": [
           {
            "automargin": true,
            "type": "pie"
           }
          ],
          "scatter": [
           {
            "marker": {
             "colorbar": {
              "outlinewidth": 0,
              "ticks": ""
             }
            },
            "type": "scatter"
           }
          ],
          "scatter3d": [
           {
            "line": {
             "colorbar": {
              "outlinewidth": 0,
              "ticks": ""
             }
            },
            "marker": {
             "colorbar": {
              "outlinewidth": 0,
              "ticks": ""
             }
            },
            "type": "scatter3d"
           }
          ],
          "scattercarpet": [
           {
            "marker": {
             "colorbar": {
              "outlinewidth": 0,
              "ticks": ""
             }
            },
            "type": "scattercarpet"
           }
          ],
          "scattergeo": [
           {
            "marker": {
             "colorbar": {
              "outlinewidth": 0,
              "ticks": ""
             }
            },
            "type": "scattergeo"
           }
          ],
          "scattergl": [
           {
            "marker": {
             "colorbar": {
              "outlinewidth": 0,
              "ticks": ""
             }
            },
            "type": "scattergl"
           }
          ],
          "scattermapbox": [
           {
            "marker": {
             "colorbar": {
              "outlinewidth": 0,
              "ticks": ""
             }
            },
            "type": "scattermapbox"
           }
          ],
          "scatterpolar": [
           {
            "marker": {
             "colorbar": {
              "outlinewidth": 0,
              "ticks": ""
             }
            },
            "type": "scatterpolar"
           }
          ],
          "scatterpolargl": [
           {
            "marker": {
             "colorbar": {
              "outlinewidth": 0,
              "ticks": ""
             }
            },
            "type": "scatterpolargl"
           }
          ],
          "scatterternary": [
           {
            "marker": {
             "colorbar": {
              "outlinewidth": 0,
              "ticks": ""
             }
            },
            "type": "scatterternary"
           }
          ],
          "surface": [
           {
            "colorbar": {
             "outlinewidth": 0,
             "ticks": ""
            },
            "colorscale": [
             [
              0,
              "#0d0887"
             ],
             [
              0.1111111111111111,
              "#46039f"
             ],
             [
              0.2222222222222222,
              "#7201a8"
             ],
             [
              0.3333333333333333,
              "#9c179e"
             ],
             [
              0.4444444444444444,
              "#bd3786"
             ],
             [
              0.5555555555555556,
              "#d8576b"
             ],
             [
              0.6666666666666666,
              "#ed7953"
             ],
             [
              0.7777777777777778,
              "#fb9f3a"
             ],
             [
              0.8888888888888888,
              "#fdca26"
             ],
             [
              1,
              "#f0f921"
             ]
            ],
            "type": "surface"
           }
          ],
          "table": [
           {
            "cells": {
             "fill": {
              "color": "#EBF0F8"
             },
             "line": {
              "color": "white"
             }
            },
            "header": {
             "fill": {
              "color": "#C8D4E3"
             },
             "line": {
              "color": "white"
             }
            },
            "type": "table"
           }
          ]
         },
         "layout": {
          "annotationdefaults": {
           "arrowcolor": "#2a3f5f",
           "arrowhead": 0,
           "arrowwidth": 1
          },
          "autotypenumbers": "strict",
          "coloraxis": {
           "colorbar": {
            "outlinewidth": 0,
            "ticks": ""
           }
          },
          "colorscale": {
           "diverging": [
            [
             0,
             "#8e0152"
            ],
            [
             0.1,
             "#c51b7d"
            ],
            [
             0.2,
             "#de77ae"
            ],
            [
             0.3,
             "#f1b6da"
            ],
            [
             0.4,
             "#fde0ef"
            ],
            [
             0.5,
             "#f7f7f7"
            ],
            [
             0.6,
             "#e6f5d0"
            ],
            [
             0.7,
             "#b8e186"
            ],
            [
             0.8,
             "#7fbc41"
            ],
            [
             0.9,
             "#4d9221"
            ],
            [
             1,
             "#276419"
            ]
           ],
           "sequential": [
            [
             0,
             "#0d0887"
            ],
            [
             0.1111111111111111,
             "#46039f"
            ],
            [
             0.2222222222222222,
             "#7201a8"
            ],
            [
             0.3333333333333333,
             "#9c179e"
            ],
            [
             0.4444444444444444,
             "#bd3786"
            ],
            [
             0.5555555555555556,
             "#d8576b"
            ],
            [
             0.6666666666666666,
             "#ed7953"
            ],
            [
             0.7777777777777778,
             "#fb9f3a"
            ],
            [
             0.8888888888888888,
             "#fdca26"
            ],
            [
             1,
             "#f0f921"
            ]
           ],
           "sequentialminus": [
            [
             0,
             "#0d0887"
            ],
            [
             0.1111111111111111,
             "#46039f"
            ],
            [
             0.2222222222222222,
             "#7201a8"
            ],
            [
             0.3333333333333333,
             "#9c179e"
            ],
            [
             0.4444444444444444,
             "#bd3786"
            ],
            [
             0.5555555555555556,
             "#d8576b"
            ],
            [
             0.6666666666666666,
             "#ed7953"
            ],
            [
             0.7777777777777778,
             "#fb9f3a"
            ],
            [
             0.8888888888888888,
             "#fdca26"
            ],
            [
             1,
             "#f0f921"
            ]
           ]
          },
          "colorway": [
           "#636efa",
           "#EF553B",
           "#00cc96",
           "#ab63fa",
           "#FFA15A",
           "#19d3f3",
           "#FF6692",
           "#B6E880",
           "#FF97FF",
           "#FECB52"
          ],
          "font": {
           "color": "#2a3f5f"
          },
          "geo": {
           "bgcolor": "white",
           "lakecolor": "white",
           "landcolor": "#E5ECF6",
           "showlakes": true,
           "showland": true,
           "subunitcolor": "white"
          },
          "hoverlabel": {
           "align": "left"
          },
          "hovermode": "closest",
          "mapbox": {
           "style": "light"
          },
          "paper_bgcolor": "white",
          "plot_bgcolor": "#E5ECF6",
          "polar": {
           "angularaxis": {
            "gridcolor": "white",
            "linecolor": "white",
            "ticks": ""
           },
           "bgcolor": "#E5ECF6",
           "radialaxis": {
            "gridcolor": "white",
            "linecolor": "white",
            "ticks": ""
           }
          },
          "scene": {
           "xaxis": {
            "backgroundcolor": "#E5ECF6",
            "gridcolor": "white",
            "gridwidth": 2,
            "linecolor": "white",
            "showbackground": true,
            "ticks": "",
            "zerolinecolor": "white"
           },
           "yaxis": {
            "backgroundcolor": "#E5ECF6",
            "gridcolor": "white",
            "gridwidth": 2,
            "linecolor": "white",
            "showbackground": true,
            "ticks": "",
            "zerolinecolor": "white"
           },
           "zaxis": {
            "backgroundcolor": "#E5ECF6",
            "gridcolor": "white",
            "gridwidth": 2,
            "linecolor": "white",
            "showbackground": true,
            "ticks": "",
            "zerolinecolor": "white"
           }
          },
          "shapedefaults": {
           "line": {
            "color": "#2a3f5f"
           }
          },
          "ternary": {
           "aaxis": {
            "gridcolor": "white",
            "linecolor": "white",
            "ticks": ""
           },
           "baxis": {
            "gridcolor": "white",
            "linecolor": "white",
            "ticks": ""
           },
           "bgcolor": "#E5ECF6",
           "caxis": {
            "gridcolor": "white",
            "linecolor": "white",
            "ticks": ""
           }
          },
          "title": {
           "x": 0.05
          },
          "xaxis": {
           "automargin": true,
           "gridcolor": "white",
           "linecolor": "white",
           "ticks": "",
           "title": {
            "standoff": 15
           },
           "zerolinecolor": "white",
           "zerolinewidth": 2
          },
          "yaxis": {
           "automargin": true,
           "gridcolor": "white",
           "linecolor": "white",
           "ticks": "",
           "title": {
            "standoff": 15
           },
           "zerolinecolor": "white",
           "zerolinewidth": 2
          }
         }
        },
        "title": {
         "text": "Birth rate per country (where country is specified)"
        },
        "width": 900
       }
      },
      "text/html": [
       "<div>                            <div id=\"0866303e-c665-4fcd-8ba8-492c6c3a6b2c\" class=\"plotly-graph-div\" style=\"height:700px; width:900px;\"></div>            <script type=\"text/javascript\">                require([\"plotly\"], function(Plotly) {                    window.PLOTLYENV=window.PLOTLYENV || {};                                    if (document.getElementById(\"0866303e-c665-4fcd-8ba8-492c6c3a6b2c\")) {                    Plotly.newPlot(                        \"0866303e-c665-4fcd-8ba8-492c6c3a6b2c\",                        [{\"coloraxis\": \"coloraxis\", \"geo\": \"geo\", \"hovertemplate\": \"<b>%{hovertext}</b><br><br>alpha3=%{location}<br>birth-rates=%{z}<extra></extra>\", \"hovertext\": [\"country: Belgium<br>birth-rates: 1184652.0                          <br>country code: BE<br>country alpha3: BEL\", \"country: Bulgaria<br>birth-rates: 651372.0                          <br>country code: BG<br>country alpha3: BGR\", \"country: Czechia<br>birth-rates: 1051738.0                          <br>country code: CZ<br>country alpha3: CZE\", \"country: Denmark<br>birth-rates: 579910.0                          <br>country code: DK<br>country alpha3: DNK\", \"country: Estonia<br>birth-rates: 132517.0                          <br>country code: EE<br>country alpha3: EST\", \"country: Ireland<br>birth-rates: 621366.0                          <br>country code: IE<br>country alpha3: IRL\", \"country: Greece<br>birth-rates: 907337.0                          <br>country code: GR<br>country alpha3: GRC\", \"country: Spain<br>birth-rates: 3886883.0                          <br>country code: ES<br>country alpha3: ESP\", \"country: France<br>birth-rates: 7763326.0                          <br>country code: FR<br>country alpha3: FRA\", \"country: Croatia<br>birth-rates: 377356.0                          <br>country code: HR<br>country alpha3: HRV\", \"country: Italy<br>birth-rates: 4642671.0                          <br>country code: IT<br>country alpha3: ITA\", \"country: Cyprus<br>birth-rates: 89444.0                          <br>country code: CY<br>country alpha3: CYP\", \"country: Latvia<br>birth-rates: 198817.0                          <br>country code: LV<br>country alpha3: LVA\", \"country: Lithuania<br>birth-rates: 292159.0                          <br>country code: LT<br>country alpha3: LTU\", \"country: Luxembourg<br>birth-rates: 59434.0                          <br>country code: LU<br>country alpha3: LUX\", \"country: Hungary<br>birth-rates: 925532.0                          <br>country code: HU<br>country alpha3: HUN\", \"country: Malta<br>birth-rates: 42955.0                          <br>country code: MT<br>country alpha3: MLT\", \"country: Netherlands<br>birth-rates: 1680489.0                          <br>country code: NL<br>country alpha3: NLD\", \"country: Austria<br>birth-rates: 811461.0                          <br>country code: AT<br>country alpha3: AUT\", \"country: Poland<br>birth-rates: 3709015.0                          <br>country code: PL<br>country alpha3: POL\", \"country: Portugal<br>birth-rates: 847120.0                          <br>country code: PT<br>country alpha3: PRT\", \"country: Romania<br>birth-rates: 1983912.0                          <br>country code: RO<br>country alpha3: ROU\", \"country: Slovenia<br>birth-rates: 200284.0                          <br>country code: SI<br>country alpha3: SVN\", \"country: Slovakia<br>birth-rates: 554797.0                          <br>country code: SK<br>country alpha3: SVK\", \"country: Finland<br>birth-rates: 533081.0                          <br>country code: FI<br>country alpha3: FIN\", \"country: Sweden<br>birth-rates: 1144590.0                          <br>country code: SE<br>country alpha3: SWE\", \"country: Iceland<br>birth-rates: 42101.0                          <br>country code: IS<br>country alpha3: ISL\", \"country: Liechtenstein<br>birth-rates: 3546.0                          <br>country code: LI<br>country alpha3: LIE\", \"country: Norway<br>birth-rates: 576201.0                          <br>country code: NO<br>country alpha3: NOR\", \"country: Switzerland<br>birth-rates: 827795.0                          <br>country code: CH<br>country alpha3: CHE\", \"country: United Kingdom<br>birth-rates: 6562161.0                          <br>country code: GB<br>country alpha3: GBR\", \"country: Montenegro<br>birth-rates: 71846.0                          <br>country code: ME<br>country alpha3: MNE\", \"country: North Macedonia<br>birth-rates: 216008.0                          <br>country code: MK<br>country alpha3: MKD\", \"country: Albania<br>birth-rates: 243958.0                          <br>country code: AL<br>country alpha3: ALB\", \"country: Serbia<br>birth-rates: 640282.0                          <br>country code: RS<br>country alpha3: SRB\", \"country: Turkey<br>birth-rates: 11500950.0                          <br>country code: TR<br>country alpha3: TUR\", \"country: Andorra<br>birth-rates: 2073.0                          <br>country code: AD<br>country alpha3: AND\", \"country: Belarus<br>birth-rates: 894976.0                          <br>country code: BY<br>country alpha3: BLR\", \"country: Bosnia and Herzegovina<br>birth-rates: 32547.0                          <br>country code: BA<br>country alpha3: BIH\", \"country: Monaco<br>birth-rates: 0.0                          <br>country code: MC<br>country alpha3: MCO\", \"country: San Marino<br>birth-rates: 520.0                          <br>country code: SM<br>country alpha3: SMR\", \"country: Ukraine<br>birth-rates: 3810335.0                          <br>country code: UA<br>country alpha3: UKR\", \"country: Armenia<br>birth-rates: 235701.0                          <br>country code: AM<br>country alpha3: ARM\", \"country: Azerbaijan<br>birth-rates: 1267519.0                          <br>country code: AZ<br>country alpha3: AZE\", \"country: Georgia<br>birth-rates: 445072.0                          <br>country code: GE<br>country alpha3: GEO\"], \"locations\": [\"BEL\", \"BGR\", \"CZE\", \"DNK\", \"EST\", \"IRL\", \"GRC\", \"ESP\", \"FRA\", \"HRV\", \"ITA\", \"CYP\", \"LVA\", \"LTU\", \"LUX\", \"HUN\", \"MLT\", \"NLD\", \"AUT\", \"POL\", \"PRT\", \"ROU\", \"SVN\", \"SVK\", \"FIN\", \"SWE\", \"ISL\", \"LIE\", \"NOR\", \"CHE\", \"GBR\", \"MNE\", \"MKD\", \"ALB\", \"SRB\", \"TUR\", \"AND\", \"BLR\", \"BIH\", \"MCO\", \"SMR\", \"UKR\", \"ARM\", \"AZE\", \"GEO\"], \"name\": \"\", \"type\": \"choropleth\", \"z\": [1184652.0, 651372.0, 1051738.0, 579910.0, 132517.0, 621366.0, 907337.0, 3886883.0, 7763326.0, 377356.0, 4642671.0, 89444.0, 198817.0, 292159.0, 59434.0, 925532.0, 42955.0, 1680489.0, 811461.0, 3709015.0, 847120.0, 1983912.0, 200284.0, 554797.0, 533081.0, 1144590.0, 42101.0, 3546.0, 576201.0, 827795.0, 6562161.0, 71846.0, 216008.0, 243958.0, 640282.0, 11500950.0, 2073.0, 894976.0, 32547.0, 0.0, 520.0, 3810335.0, 235701.0, 1267519.0, 445072.0]}],                        {\"coloraxis\": {\"colorbar\": {\"title\": {\"text\": \"birth-rates\"}}, \"colorscale\": [[0.0, \"#0d0887\"], [0.1111111111111111, \"#46039f\"], [0.2222222222222222, \"#7201a8\"], [0.3333333333333333, \"#9c179e\"], [0.4444444444444444, \"#bd3786\"], [0.5555555555555556, \"#d8576b\"], [0.6666666666666666, \"#ed7953\"], [0.7777777777777778, \"#fb9f3a\"], [0.8888888888888888, \"#fdca26\"], [1.0, \"#f0f921\"]]}, \"geo\": {\"center\": {}, \"coastlinecolor\": \"DarkBlue\", \"countrycolor\": \"DarkBlue\", \"domain\": {\"x\": [0.0, 1.0], \"y\": [0.0, 1.0]}, \"lakecolor\": \"Blue\", \"landcolor\": \"LightGrey\", \"oceancolor\": \"LightBlue\", \"projection\": {\"type\": \"natural earth\"}, \"resolution\": 110, \"rivercolor\": \"Blue\", \"scope\": \"world\", \"showcoastlines\": true, \"showcountries\": true, \"showlakes\": true, \"showland\": true, \"showocean\": true, \"showrivers\": true, \"visible\": false}, \"height\": 700, \"legend\": {\"tracegroupgap\": 0}, \"margin\": {\"t\": 60}, \"template\": {\"data\": {\"bar\": [{\"error_x\": {\"color\": \"#2a3f5f\"}, \"error_y\": {\"color\": \"#2a3f5f\"}, \"marker\": {\"line\": {\"color\": \"#E5ECF6\", \"width\": 0.5}}, \"type\": \"bar\"}], \"barpolar\": [{\"marker\": {\"line\": {\"color\": \"#E5ECF6\", \"width\": 0.5}}, \"type\": \"barpolar\"}], \"carpet\": [{\"aaxis\": {\"endlinecolor\": \"#2a3f5f\", \"gridcolor\": \"white\", \"linecolor\": \"white\", \"minorgridcolor\": \"white\", \"startlinecolor\": \"#2a3f5f\"}, \"baxis\": {\"endlinecolor\": \"#2a3f5f\", \"gridcolor\": \"white\", \"linecolor\": \"white\", \"minorgridcolor\": \"white\", \"startlinecolor\": \"#2a3f5f\"}, \"type\": \"carpet\"}], \"choropleth\": [{\"colorbar\": {\"outlinewidth\": 0, \"ticks\": \"\"}, \"type\": \"choropleth\"}], \"contour\": [{\"colorbar\": {\"outlinewidth\": 0, \"ticks\": \"\"}, \"colorscale\": [[0.0, \"#0d0887\"], [0.1111111111111111, \"#46039f\"], [0.2222222222222222, \"#7201a8\"], [0.3333333333333333, \"#9c179e\"], [0.4444444444444444, \"#bd3786\"], [0.5555555555555556, \"#d8576b\"], [0.6666666666666666, \"#ed7953\"], [0.7777777777777778, \"#fb9f3a\"], [0.8888888888888888, \"#fdca26\"], [1.0, \"#f0f921\"]], \"type\": \"contour\"}], \"contourcarpet\": [{\"colorbar\": {\"outlinewidth\": 0, \"ticks\": \"\"}, \"type\": \"contourcarpet\"}], \"heatmap\": [{\"colorbar\": {\"outlinewidth\": 0, \"ticks\": \"\"}, \"colorscale\": [[0.0, \"#0d0887\"], [0.1111111111111111, \"#46039f\"], [0.2222222222222222, \"#7201a8\"], [0.3333333333333333, \"#9c179e\"], [0.4444444444444444, \"#bd3786\"], [0.5555555555555556, \"#d8576b\"], [0.6666666666666666, \"#ed7953\"], [0.7777777777777778, \"#fb9f3a\"], [0.8888888888888888, \"#fdca26\"], [1.0, \"#f0f921\"]], \"type\": \"heatmap\"}], \"heatmapgl\": [{\"colorbar\": {\"outlinewidth\": 0, \"ticks\": \"\"}, \"colorscale\": [[0.0, \"#0d0887\"], [0.1111111111111111, \"#46039f\"], [0.2222222222222222, \"#7201a8\"], [0.3333333333333333, \"#9c179e\"], [0.4444444444444444, \"#bd3786\"], [0.5555555555555556, \"#d8576b\"], [0.6666666666666666, \"#ed7953\"], [0.7777777777777778, \"#fb9f3a\"], [0.8888888888888888, \"#fdca26\"], [1.0, \"#f0f921\"]], \"type\": \"heatmapgl\"}], \"histogram\": [{\"marker\": {\"colorbar\": {\"outlinewidth\": 0, \"ticks\": \"\"}}, \"type\": \"histogram\"}], \"histogram2d\": [{\"colorbar\": {\"outlinewidth\": 0, \"ticks\": \"\"}, \"colorscale\": [[0.0, \"#0d0887\"], [0.1111111111111111, \"#46039f\"], [0.2222222222222222, \"#7201a8\"], [0.3333333333333333, \"#9c179e\"], [0.4444444444444444, \"#bd3786\"], [0.5555555555555556, \"#d8576b\"], [0.6666666666666666, \"#ed7953\"], [0.7777777777777778, \"#fb9f3a\"], [0.8888888888888888, \"#fdca26\"], [1.0, \"#f0f921\"]], \"type\": \"histogram2d\"}], \"histogram2dcontour\": [{\"colorbar\": {\"outlinewidth\": 0, \"ticks\": \"\"}, \"colorscale\": [[0.0, \"#0d0887\"], [0.1111111111111111, \"#46039f\"], [0.2222222222222222, \"#7201a8\"], [0.3333333333333333, \"#9c179e\"], [0.4444444444444444, \"#bd3786\"], [0.5555555555555556, \"#d8576b\"], [0.6666666666666666, \"#ed7953\"], [0.7777777777777778, \"#fb9f3a\"], [0.8888888888888888, \"#fdca26\"], [1.0, \"#f0f921\"]], \"type\": \"histogram2dcontour\"}], \"mesh3d\": [{\"colorbar\": {\"outlinewidth\": 0, \"ticks\": \"\"}, \"type\": \"mesh3d\"}], \"parcoords\": [{\"line\": {\"colorbar\": {\"outlinewidth\": 0, \"ticks\": \"\"}}, \"type\": \"parcoords\"}], \"pie\": [{\"automargin\": true, \"type\": \"pie\"}], \"scatter\": [{\"marker\": {\"colorbar\": {\"outlinewidth\": 0, \"ticks\": \"\"}}, \"type\": \"scatter\"}], \"scatter3d\": [{\"line\": {\"colorbar\": {\"outlinewidth\": 0, \"ticks\": \"\"}}, \"marker\": {\"colorbar\": {\"outlinewidth\": 0, \"ticks\": \"\"}}, \"type\": \"scatter3d\"}], \"scattercarpet\": [{\"marker\": {\"colorbar\": {\"outlinewidth\": 0, \"ticks\": \"\"}}, \"type\": \"scattercarpet\"}], \"scattergeo\": [{\"marker\": {\"colorbar\": {\"outlinewidth\": 0, \"ticks\": \"\"}}, \"type\": \"scattergeo\"}], \"scattergl\": [{\"marker\": {\"colorbar\": {\"outlinewidth\": 0, \"ticks\": \"\"}}, \"type\": \"scattergl\"}], \"scattermapbox\": [{\"marker\": {\"colorbar\": {\"outlinewidth\": 0, \"ticks\": \"\"}}, \"type\": \"scattermapbox\"}], \"scatterpolar\": [{\"marker\": {\"colorbar\": {\"outlinewidth\": 0, \"ticks\": \"\"}}, \"type\": \"scatterpolar\"}], \"scatterpolargl\": [{\"marker\": {\"colorbar\": {\"outlinewidth\": 0, \"ticks\": \"\"}}, \"type\": \"scatterpolargl\"}], \"scatterternary\": [{\"marker\": {\"colorbar\": {\"outlinewidth\": 0, \"ticks\": \"\"}}, \"type\": \"scatterternary\"}], \"surface\": [{\"colorbar\": {\"outlinewidth\": 0, \"ticks\": \"\"}, \"colorscale\": [[0.0, \"#0d0887\"], [0.1111111111111111, \"#46039f\"], [0.2222222222222222, \"#7201a8\"], [0.3333333333333333, \"#9c179e\"], [0.4444444444444444, \"#bd3786\"], [0.5555555555555556, \"#d8576b\"], [0.6666666666666666, \"#ed7953\"], [0.7777777777777778, \"#fb9f3a\"], [0.8888888888888888, \"#fdca26\"], [1.0, \"#f0f921\"]], \"type\": \"surface\"}], \"table\": [{\"cells\": {\"fill\": {\"color\": \"#EBF0F8\"}, \"line\": {\"color\": \"white\"}}, \"header\": {\"fill\": {\"color\": \"#C8D4E3\"}, \"line\": {\"color\": \"white\"}}, \"type\": \"table\"}]}, \"layout\": {\"annotationdefaults\": {\"arrowcolor\": \"#2a3f5f\", \"arrowhead\": 0, \"arrowwidth\": 1}, \"autotypenumbers\": \"strict\", \"coloraxis\": {\"colorbar\": {\"outlinewidth\": 0, \"ticks\": \"\"}}, \"colorscale\": {\"diverging\": [[0, \"#8e0152\"], [0.1, \"#c51b7d\"], [0.2, \"#de77ae\"], [0.3, \"#f1b6da\"], [0.4, \"#fde0ef\"], [0.5, \"#f7f7f7\"], [0.6, \"#e6f5d0\"], [0.7, \"#b8e186\"], [0.8, \"#7fbc41\"], [0.9, \"#4d9221\"], [1, \"#276419\"]], \"sequential\": [[0.0, \"#0d0887\"], [0.1111111111111111, \"#46039f\"], [0.2222222222222222, \"#7201a8\"], [0.3333333333333333, \"#9c179e\"], [0.4444444444444444, \"#bd3786\"], [0.5555555555555556, \"#d8576b\"], [0.6666666666666666, \"#ed7953\"], [0.7777777777777778, \"#fb9f3a\"], [0.8888888888888888, \"#fdca26\"], [1.0, \"#f0f921\"]], \"sequentialminus\": [[0.0, \"#0d0887\"], [0.1111111111111111, \"#46039f\"], [0.2222222222222222, \"#7201a8\"], [0.3333333333333333, \"#9c179e\"], [0.4444444444444444, \"#bd3786\"], [0.5555555555555556, \"#d8576b\"], [0.6666666666666666, \"#ed7953\"], [0.7777777777777778, \"#fb9f3a\"], [0.8888888888888888, \"#fdca26\"], [1.0, \"#f0f921\"]]}, \"colorway\": [\"#636efa\", \"#EF553B\", \"#00cc96\", \"#ab63fa\", \"#FFA15A\", \"#19d3f3\", \"#FF6692\", \"#B6E880\", \"#FF97FF\", \"#FECB52\"], \"font\": {\"color\": \"#2a3f5f\"}, \"geo\": {\"bgcolor\": \"white\", \"lakecolor\": \"white\", \"landcolor\": \"#E5ECF6\", \"showlakes\": true, \"showland\": true, \"subunitcolor\": \"white\"}, \"hoverlabel\": {\"align\": \"left\"}, \"hovermode\": \"closest\", \"mapbox\": {\"style\": \"light\"}, \"paper_bgcolor\": \"white\", \"plot_bgcolor\": \"#E5ECF6\", \"polar\": {\"angularaxis\": {\"gridcolor\": \"white\", \"linecolor\": \"white\", \"ticks\": \"\"}, \"bgcolor\": \"#E5ECF6\", \"radialaxis\": {\"gridcolor\": \"white\", \"linecolor\": \"white\", \"ticks\": \"\"}}, \"scene\": {\"xaxis\": {\"backgroundcolor\": \"#E5ECF6\", \"gridcolor\": \"white\", \"gridwidth\": 2, \"linecolor\": \"white\", \"showbackground\": true, \"ticks\": \"\", \"zerolinecolor\": \"white\"}, \"yaxis\": {\"backgroundcolor\": \"#E5ECF6\", \"gridcolor\": \"white\", \"gridwidth\": 2, \"linecolor\": \"white\", \"showbackground\": true, \"ticks\": \"\", \"zerolinecolor\": \"white\"}, \"zaxis\": {\"backgroundcolor\": \"#E5ECF6\", \"gridcolor\": \"white\", \"gridwidth\": 2, \"linecolor\": \"white\", \"showbackground\": true, \"ticks\": \"\", \"zerolinecolor\": \"white\"}}, \"shapedefaults\": {\"line\": {\"color\": \"#2a3f5f\"}}, \"ternary\": {\"aaxis\": {\"gridcolor\": \"white\", \"linecolor\": \"white\", \"ticks\": \"\"}, \"baxis\": {\"gridcolor\": \"white\", \"linecolor\": \"white\", \"ticks\": \"\"}, \"bgcolor\": \"#E5ECF6\", \"caxis\": {\"gridcolor\": \"white\", \"linecolor\": \"white\", \"ticks\": \"\"}}, \"title\": {\"x\": 0.05}, \"xaxis\": {\"automargin\": true, \"gridcolor\": \"white\", \"linecolor\": \"white\", \"ticks\": \"\", \"title\": {\"standoff\": 15}, \"zerolinecolor\": \"white\", \"zerolinewidth\": 2}, \"yaxis\": {\"automargin\": true, \"gridcolor\": \"white\", \"linecolor\": \"white\", \"ticks\": \"\", \"title\": {\"standoff\": 15}, \"zerolinecolor\": \"white\", \"zerolinewidth\": 2}}}, \"title\": {\"text\": \"Birth rate per country (where country is specified)\"}, \"width\": 900},                        {\"responsive\": true}                    ).then(function(){\n",
       "                            \n",
       "var gd = document.getElementById('0866303e-c665-4fcd-8ba8-492c6c3a6b2c');\n",
       "var x = new MutationObserver(function (mutations, observer) {{\n",
       "        var display = window.getComputedStyle(gd).display;\n",
       "        if (!display || display === 'none') {{\n",
       "            console.log([gd, 'removed!']);\n",
       "            Plotly.purge(gd);\n",
       "            observer.disconnect();\n",
       "        }}\n",
       "}});\n",
       "\n",
       "// Listen for the removal of the full notebook cells\n",
       "var notebookContainer = gd.closest('#notebook-container');\n",
       "if (notebookContainer) {{\n",
       "    x.observe(notebookContainer, {childList: true});\n",
       "}}\n",
       "\n",
       "// Listen for the clearing of the current output cell\n",
       "var outputEl = gd.closest('.output');\n",
       "if (outputEl) {{\n",
       "    x.observe(outputEl, {childList: true});\n",
       "}}\n",
       "\n",
       "                        })                };                });            </script>        </div>"
      ]
     },
     "metadata": {},
     "output_type": "display_data"
    }
   ],
   "source": [
    "plot_map(eu_df, \"Birth rate per country (where country is specified)\")\n"
   ]
  },
  {
   "cell_type": "code",
   "execution_count": 22,
   "metadata": {},
   "outputs": [],
   "source": [
    "eu_df.to_csv(\"eu_viz_data.csv\",index=False)"
   ]
  },
  {
   "cell_type": "code",
   "execution_count": null,
   "metadata": {},
   "outputs": [],
   "source": []
  },
  {
   "cell_type": "code",
   "execution_count": null,
   "metadata": {},
   "outputs": [],
   "source": []
  }
 ],
 "metadata": {
  "kernelspec": {
   "display_name": "Python 3",
   "language": "python",
   "name": "python3"
  },
  "language_info": {
   "codemirror_mode": {
    "name": "ipython",
    "version": 3
   },
   "file_extension": ".py",
   "mimetype": "text/x-python",
   "name": "python",
   "nbconvert_exporter": "python",
   "pygments_lexer": "ipython3",
   "version": "3.8.3"
  }
 },
 "nbformat": 4,
 "nbformat_minor": 4
}
