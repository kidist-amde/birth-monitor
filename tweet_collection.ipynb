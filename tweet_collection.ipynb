{
 "cells": [
  {
   "cell_type": "code",
   "execution_count": 1,
   "metadata": {},
   "outputs": [
    {
     "name": "stdout",
     "output_type": "stream",
     "text": [
      "Requirement already satisfied: tweepy in /home/kidist/anaconda3/lib/python3.8/site-packages (3.10.0)\n",
      "Requirement already satisfied: six>=1.10.0 in /home/kidist/anaconda3/lib/python3.8/site-packages (from tweepy) (1.15.0)\n",
      "Requirement already satisfied: requests-oauthlib>=0.7.0 in /home/kidist/anaconda3/lib/python3.8/site-packages (from tweepy) (1.3.0)\n",
      "Requirement already satisfied: requests[socks]>=2.11.1 in /home/kidist/anaconda3/lib/python3.8/site-packages (from tweepy) (2.24.0)\n",
      "Requirement already satisfied: oauthlib>=3.0.0 in /home/kidist/anaconda3/lib/python3.8/site-packages (from requests-oauthlib>=0.7.0->tweepy) (3.1.0)\n",
      "Requirement already satisfied: certifi>=2017.4.17 in /home/kidist/anaconda3/lib/python3.8/site-packages (from requests[socks]>=2.11.1->tweepy) (2020.6.20)\n",
      "Requirement already satisfied: idna<3,>=2.5 in /home/kidist/anaconda3/lib/python3.8/site-packages (from requests[socks]>=2.11.1->tweepy) (2.10)\n",
      "Requirement already satisfied: urllib3!=1.25.0,!=1.25.1,<1.26,>=1.21.1 in /home/kidist/anaconda3/lib/python3.8/site-packages (from requests[socks]>=2.11.1->tweepy) (1.25.9)\n",
      "Requirement already satisfied: chardet<4,>=3.0.2 in /home/kidist/anaconda3/lib/python3.8/site-packages (from requests[socks]>=2.11.1->tweepy) (3.0.4)\n",
      "Requirement already satisfied: PySocks!=1.5.7,>=1.5.6; extra == \"socks\" in /home/kidist/anaconda3/lib/python3.8/site-packages (from requests[socks]>=2.11.1->tweepy) (1.7.1)\n"
     ]
    }
   ],
   "source": [
    "! pip install tweepy\n",
    "# !pip install python-twitter\n",
    "# !pip install searchtweets"
   ]
  },
  {
   "cell_type": "code",
   "execution_count": 12,
   "metadata": {},
   "outputs": [],
   "source": [
    "# In[13]:\n",
    "import pandas as pd\n",
    "import tweepy as tw\n",
    "import json\n"
   ]
  },
  {
   "cell_type": "code",
   "execution_count": 3,
   "metadata": {},
   "outputs": [],
   "source": [
    "api_key_ = ''\n",
    "api_secret_key = ''\n",
    "Access_Token = ''\n",
    "Access_Token_Secret = ''"
   ]
  },
  {
   "cell_type": "code",
   "execution_count": 4,
   "metadata": {},
   "outputs": [],
   "source": [
    "# help(tw.OAuthHandler)"
   ]
  },
  {
   "cell_type": "code",
   "execution_count": 7,
   "metadata": {},
   "outputs": [
    {
     "name": "stdout",
     "output_type": "stream",
     "text": [
      "Authentication OK\n"
     ]
    }
   ],
   "source": [
    "import tweepy\n",
    "\n",
    "# Authenticate to Twitter\n",
    "auth = tweepy.OAuthHandler(api_key_, api_secret_key)\n",
    "auth.set_access_token(Access_Token, Access_Token_Secret)\n",
    "\n",
    "api = tweepy.API(auth)\n",
    "\n",
    "try:\n",
    "    api.verify_credentials()\n",
    "    print(\"Authentication OK\")\n",
    "except:\n",
    "    print(\"Error during authentication\")"
   ]
  },
  {
   "cell_type": "code",
   "execution_count": 8,
   "metadata": {},
   "outputs": [],
   "source": [
    "# Authenticate to Twitter\n",
    "auth = tw.OAuthHandler(api_key_, api_secret_key)\n",
    "auth.set_access_token(Access_Token, Access_Token_Secret)"
   ]
  },
  {
   "cell_type": "code",
   "execution_count": 9,
   "metadata": {},
   "outputs": [],
   "source": [
    "# Create API object\n",
    "api = tweepy.API(auth, wait_on_rate_limit=True,\n",
    "    wait_on_rate_limit_notify=True)"
   ]
  },
  {
   "cell_type": "code",
   "execution_count": 10,
   "metadata": {},
   "outputs": [
    {
     "name": "stdout",
     "output_type": "stream",
     "text": [
      "Female Coders Bot:RT @BRAINCURES: @dorothysuskind @terryelaineh1 @DrUmeshPrabhu @ThePeoplesHubUK @Suzanne_Garrett @ProfTimNoakes @Nicochan33 @GoogleExpertUK…\n",
      "Krzysztof Potempa:RT @BRAINCURES: @dorothysuskind @terryelaineh1 @DrUmeshPrabhu @ThePeoplesHubUK @Suzanne_Garrett @ProfTimNoakes @Nicochan33 @GoogleExpertUK…\n",
      "Lynne MacKenzie:@Pink my partner is due our baby boy in August, she's having a rough time with her mental health. Listening to Hurt… https://t.co/qXM4BFKQQC\n",
      "Red Harrington-Murrin:@ThreeLeggedPony @mummy_kray @IrishSpringtime *Red has had time to ring Angela as well, letting her know they're co… https://t.co/Dxizie9FN7\n",
      "Nicholas Beale:\"Bridgen claimed he was…approached by Hollern…she said: “Everyone is saying in…Labour party…you are having an affai… https://t.co/XM9qmNXIjl\n",
      "scottywilkser:Having a baby is just keeping cum as a pet\n",
      "Sylvia Edge🌸:RT @YorkusMarcus: So, we now have an 'Indian variant '. Of course we do! Keep that fear and uncertainty going til next lockdown. Its like h…\n",
      "Barbara Linsley PhD:@stephenfarrow Hush now, I was 27 in ‘87 and having my 1st baby!! You are a mere yoof! 😂\n",
      "david butler:@CoughlanGary @WayneOConnor2 Go to bed wayne,  make another baby 😀  what about souness having a pop at pombal again😀  priceless\n",
      "LH Northern-matelot RN:@sooty020 @Topaz91 @matelotjonah Same, I’m on a course at worthy down. I wore 4’s as it’s RN lead, but my oppo from… https://t.co/nnPMBJk1tl\n",
      "Ken Hordon:RT @YorkusMarcus: So, we now have an 'Indian variant '. Of course we do! Keep that fear and uncertainty going til next lockdown. Its like h…\n",
      "Julie 🌸:RT @YorkusMarcus: So, we now have an 'Indian variant '. Of course we do! Keep that fear and uncertainty going til next lockdown. Its like h…\n",
      "YorkusMarkus:So, we now have an 'Indian variant '. Of course we do! Keep that fear and uncertainty going til next lockdown. Its… https://t.co/2Wx8Mxf5Qu\n",
      "𝒞.𝑀:RT @hollie_baxter1: Having a baby with the right person is more important than having a baby before 30.\n",
      "dionstirling:SO fed up of my skin its unreal, who knew having a baby could fuck your body up this much and give u a whole new blood condition 😂😭\n",
      "Megan Taylor:There’s no better feeling than having a big giggle with your baby 💗 no chance of her going to sleep now though 😂… https://t.co/NxU6wi1pKs\n",
      "Ryan Lloyd:@TeamKnowhowUK Hi. We were due a fridge to be delivered today after our last broke. Extra delivery was paid for, to… https://t.co/3pl64XRJ2S\n",
      "★𝐭𝐭 | #𝐁𝐋𝐌 ★ LOVEJOY 🍂:@GlamophonicT reminds me of the story my dad tells fucking everyone where I just kept shitting on him and he ended… https://t.co/67bXuW6p5h\n",
      "Stephanie Jackson:To the woman who told me today that I should really think about having a baby soon because at the age of 37 it’s go… https://t.co/pDOCQWWIB3\n",
      "Flying Fig Studio:Hi @Woman_InBizHour! It seems my friends had a great first lockdown because they’ve all been having babies recently… https://t.co/JeU7wIfYmP\n",
      "Pato_Urbane:RT @t0nit0ne: Men, which feels like a bigger commitment to you? Getting married or having a baby with someone?\n",
      "Mahria 👶🏼💙:They don’t tell you about Haemorrhage after having a baby #EastEnders\n",
      "Charlotte Ashton:@JournalistJill 👏 I’m finally going on Saturday after FOURTEEN MONTHS (longest in my life). Another delightful side… https://t.co/wtxIJ3r8pA\n",
      "elle charlotte:RT @amyschapter: ME/CFS is dreaming about having a baby then waking up to the knowing, devastating reality that you’ll never be a mother, s…\n",
      "Wolves Foundation:While we still face restrictions, pregnancy can be a little different for expecting parents 👶\n",
      "\n",
      "So, if you are havin… https://t.co/GOl81Rcs98\n",
      "⚫️ Belinda:@blamethehormone @PNDandMe I wore a sling sometimes, but my husband loved baby wearing.  I quite liked the time whe… https://t.co/rfgDjpsd1f\n",
      "Julie_CS:Having our nephew with us gives @EmPeRa_CSGO the desire to have a 2nd baby 🧐\n",
      "\n",
      "Im not sure im ready for it 🤣\n",
      "\n",
      "Louise… https://t.co/P7XPdlGypa\n",
      "Millions Missing Podcast:RT @amyschapter: ME/CFS is dreaming about having a baby then waking up to the knowing, devastating reality that you’ll never be a mother, s…\n",
      "Michele Chambet:see #theresident rose is cure sami saved&amp; gona ba adopted by bell son,bilie had a kid from a rape not want see him,… https://t.co/Veix0NUCo2\n",
      "Amy McQuillan:RT @hollie_baxter1: Having a baby with the right person is more important than having a baby before 30.\n",
      "Southport and Ormskirk Hospital NHS Trust:RT @seftoncouncil: Having a new baby can be difficult and parental stress can affect anyone in #MySefton \n",
      "\n",
      "That’s why we’re raising awarene…\n",
      "kirsty:Literally this has nothing to do with the NHS. The NHS are a gift from above.\n",
      "\n",
      "But CAMHS is awful! Sort it out… https://t.co/FX14X7Gc1n\n",
      "jumbly girl:My baby passed her emm-ohh-tee and now I just have to deal with all the minor annoyances of having a man drive your car.\n",
      "🤍:For so many reasons, we've decided to wait until baby is born to find out if we're having a boy or girl 💛✨\n",
      "Alan Mono:@laurenkatebrook @piersmorgan So when a baby is born what should we say, congratulations on having a human.\n",
      "Stuart Owen:When you think you’re having a stressful work day and you find out a colleague’s beautiful newborn baby girl has ca… https://t.co/a6mUqxWuKd\n",
      "Alice Mackey - Escaping Wonderland Podcast:RT @66JayJay99: If you want to go out of your way to make sure your baby isn’t disabled then you shouldn’t be having babies. As their paren…\n",
      "IG: @RealAimeeO:RT @t0nit0ne: Men, which feels like a bigger commitment to you? Getting married or having a baby with someone?\n",
      "Tina 💚🇨🇺:RT @66JayJay99: If you want to go out of your way to make sure your baby isn’t disabled then you shouldn’t be having babies. As their paren…\n",
      "Laura Blakemore:@sailordoctor My concern is this baby is tiring. High flow might save you an intubation, or buy you some time in a… https://t.co/dBnV2dIJdQ\n",
      "ash ✨:My cousin is having a baby so happy for her 😩\n",
      "Charles John Dawson:@stebob1984 @Steppenwolf1111 I don't care tbh. Far as I'm concerned he messed up Superman then had some super soap… https://t.co/vWdoT8a31i\n",
      "🌠 Bladeycakes 🌠 CoS BrainRot City 🧛:I'm baby. I played ME 1-3 during Uni when I was having a really rough time with MH and just feeling disconnected fr… https://t.co/xAtilFMtFu\n",
      "Binita Walia:@hannahfearn Oh no! I remember having to sleep a whole night with the baby on me and sitting in bed upright because… https://t.co/PdqzjjyR4Q\n",
      "Joseph Harwood:Thank you to everyone that has watched me grow up from a 13 year old androgynous baby on MySpace who somehow found… https://t.co/i5CbzhtP9f\n",
      "David H 🌍✈🌎 LFC ⚽️🔴🔴🔴🇧🇻🇬🇧:@pinksazz78 I have passed on my thanks to them and even had messages from them back such a lovely message too so no… https://t.co/zoF6DaUFKg\n",
      "PettyLittleThing ♓️:There’s something about having a baby and losing your sexiness\n",
      "Hilary Evans:RT @jessphillips: @sarahlethbridge @ThisisDavina Honestly this is so true. I felt like a failure having medical interventions with my first…\n",
      "Antifa of Green Gables:I'm having a rough time so I am trying to get back into that moment mentally when I was holding a newborn baby yesterday.\n",
      "Alan Collins:RT @NellFrizzell: I realised this week that despite having a column in @BritishVogue for over three years, I had never written specifically…\n",
      ".:Having a baby father seems very stressful😩\n",
      "C I S C A 📍:RT @t0nit0ne: Men, which feels like a bigger commitment to you? Getting married or having a baby with someone?\n",
      "Abbie:Everyone I know either having or trying for a baby n me n my boyf can’t even decide what to have for tea tonight\n",
      "Phil's Retro Life #retro:@DarthKaldar @Octav1usKing Driving through the car park at work last night and there was a rat bouncing about and a… https://t.co/B9RcuYTKzQ\n",
      "Laura:Thanks Richard @rq4c . The article is really about men taking up #parentalleave  and sharing the #childcare burden… https://t.co/O1cHdjd806\n",
      "A Sea lover:RT @t0nit0ne: Men, which feels like a bigger commitment to you? Getting married or having a baby with someone?\n",
      "جان:do you even understand how much strength you have to have throughout your entire body to do this 😭 and also after h… https://t.co/AFPXi0QEAU\n",
      "Ellenor Craig:RT @jessphillips: @sarahlethbridge @ThisisDavina Honestly this is so true. I felt like a failure having medical interventions with my first…\n",
      "Shai 🦅:RT @t0nit0ne: Men, which feels like a bigger commitment to you? Getting married or having a baby with someone?\n",
      "Pantalon:@jessphillips @ThisisDavina Last week in USA trials a 1 year old baby boy was given the experimental vaccine in Flo… https://t.co/xjv3oUcnqS\n",
      "generic name here:RT @66JayJay99: If you want to go out of your way to make sure your baby isn’t disabled then you shouldn’t be having babies. As their paren…\n",
      "Michelle Parsons-Woodley:Having a lovely day out @westmidsafari #family #familyday #familydayout #safaripark #animals #toddler #baby… https://t.co/brvXgcmFNr\n",
      "C.C. Crowd Control 𓂀🇯🇲:Could you imagine a Capricorn and a Aquarius having a baby Aries! 😳🚫\n",
      "J1M9L1:@VanityFair It’s one thing to not have a baby shower but it’s another to make an announcement to the world that you… https://t.co/WmDZ80BGdT\n",
      "J1M9L1:@TheToadours It’s one thing to not have a baby shower, it’s another to announce it to the world that you won’t be h… https://t.co/DPzi21POkU\n",
      "Frank Dempsey:@EastofMotion @DaraghCassidy Ah Brendan would you ever cop on?! The Minister is entitled to maternity leave  just l… https://t.co/COASnlaTqN\n",
      "Lynn Bryant:Having a new puppy is quite like having a new baby in the house. When he crashes, there's a frantic sense of needin… https://t.co/7nbLoMyflN\n",
      "3s.p.H:RT @t0nit0ne: Men, which feels like a bigger commitment to you? Getting married or having a baby with someone?\n",
      "🍷Мафия на вашей стороне⚔:RT @TatasenkoMana: The funny arcade scene in episode 27 when Dazai and Chuuya were for the first time of their yound life acting like the t…\n",
      "HealingCFSME:RT @amyschapter: ME/CFS is dreaming about having a baby then waking up to the knowing, devastating reality that you’ll never be a mother, s…\n",
      "Kay Boardman:Right. When all this coronavirus shit blows over, I need a big ol’ gay Eurodance party. I’m talking such classics s… https://t.co/koguGHYxir\n",
      "Gallery Teachers:Are you a baby @Zoomer? Having taught five online classes a day for one year now, Chris has been constantly decidin… https://t.co/Kcdtffo9Px\n",
      "xAngelAryax:RT @TatasenkoMana: The funny arcade scene in episode 27 when Dazai and Chuuya were for the first time of their yound life acting like the t…\n",
      "Antonia ⛓️:RT @TatasenkoMana: The funny arcade scene in episode 27 when Dazai and Chuuya were for the first time of their yound life acting like the t…\n",
      "soukoku lovebot:RT @TatasenkoMana: The funny arcade scene in episode 27 when Dazai and Chuuya were for the first time of their yound life acting like the t…\n",
      "Clarion Housing Group:\"When I went back to work after my little boy was born I was struggling. I was spending time away from my family an… https://t.co/AuqO2DEjEk\n",
      "ricky jay:@Lee1988Lee @WhitemanDonna @CharlieL_ @BandB_CBS @CBS @paramountplus Im just saying I don’t think it was deep. It w… https://t.co/sdYB7npyC6\n",
      "babysalma122:My best friend is geting a divorce, she and her soon ex husband have a 6 months baby girl\n",
      "I hate mens who cant assu… https://t.co/SxqhYbDHVz\n",
      "Amy Norman:RT @amyschapter: ME/CFS is dreaming about having a baby then waking up to the knowing, devastating reality that you’ll never be a mother, s…\n",
      "Laura Blackwell:@Subirdpu @StarCur1 And not even having days off for it! Having a baby and going to school. Having a baby and servi… https://t.co/1xZI6gNObi\n",
      "Laura Blackwell:@Subirdpu @StarCur1 Have always had bad period pains. When I was in labour, called the hospital and they said to co… https://t.co/QZ71KzMenC\n",
      "TataMana:The funny arcade scene in episode 27 when Dazai and Chuuya were for the first time of their yound life acting like… https://t.co/4HBsg6Ma6j\n",
      "Fertility Issues in Teaching:RT @p3_study: Check out our new blog from Dr Annette Thwaites on her new study about #contraception post #IVF. If you have had a baby by #I…\n",
      "*KirkbyRedScouser⭐️⭐️⭐️⭐️⭐️⭐️:Vvd’s calf having a baby? https://t.co/5wjDrJYxOw\n",
      "♍️🏳️‍⚧️💜𝐉𝐚𝐲𝐉𝐚𝐲💙🏳️‍⚧️☮️:If you want to go out of your way to make sure your baby isn’t disabled then you shouldn’t be having babies. As the… https://t.co/xenaeozPsJ\n",
      "Chloe Casey:@MalikaFelton @Dr_Meming @OpenAcademics @AcademicChatter It seems having a baby is the only thing that stops me doing this 😅👶\n",
      "Eoin Dempsey ///:@sj87_stacey @DIIV @capturedtracks 😂😂😂, I'm a bad influence! If you calculate the savings you have made by not goin… https://t.co/oPhFvJX49k\n",
      "ᴮᴱGemma⁷ 🐋🍊 🧈🏴󠁧󠁢󠁷󠁬󠁳󠁿:Help Army!, I have an Army friend who is having a baby soon, where can I buy baby bangtan gifts? I'm thinking littl… https://t.co/2ZndCO1BuA\n",
      "Gavin Evans:@BirdRhyan Nah and it's not the same watching it on telly is it. Fingers crossed mate, I'll probably have another l… https://t.co/0DHd6Ag7yD\n",
      "َ:RT @SaraLouTweets: I won’t lie, not having to go through the pain this week is a relief...\n",
      "\n",
      "My baby 🤧\n",
      "\n",
      "#BurcuBiricik •• #CamdakiKız https:/…\n",
      "EmptyWorld:RT @EmptyWorld0722: @HKOYL1 @7sins_shadow @nytimes No, having your picture taken with a baby rapist does not mean they are the same. But be…\n",
      "EmptyWorld:@HKOYL1 @7sins_shadow @nytimes No, having your picture taken with a baby rapist does not mean they are the same. Bu… https://t.co/IRPJz6FCG8\n",
      "Theresa:@DonnellyStephen Great news! I'm hearing impaired and 38 weeks along with a breech baby. The idea of having to be a… https://t.co/oBrZYaX96o\n",
      "Nix lothaire:@hannahpitkinx @gnrsmiffies @Marie_0612 @noreward_norisk Having a vaccine that's in trial while pregnant is complet… https://t.co/wBF8YYpQ3U\n",
      "marf.:RT @t0nit0ne: Men, which feels like a bigger commitment to you? Getting married or having a baby with someone?\n",
      "Paul Keeley:@mrsbiffy “My wife is having a baby....” https://t.co/vzDgnmOjex\n",
      "Dr Emily Kate:My baby is having a v hard time settling in2 nursery- showing her distress by refusing 2eat anything all day. Today… https://t.co/zpacOQN20g\n",
      "Casey Leanne:@melissasaurs @newlook Thank you ❤️ Baby is thankfully fine but the pain is something I could really do without. Th… https://t.co/8kaW6YMq6t\n",
      "˚✧lucy⁎˚₊:girl from primary school that pissed on the carpet is having a baby\n",
      "jo:Femi can't believe it, no matter how many times Miko tells him that they're having a baby. He feels like he's dream… https://t.co/nEXbhzSC1B\n"
     ]
    }
   ],
   "source": [
    "# delivering a baby\n",
    "# delivering OR welcome OR baby\n",
    "# having%20a%20baby \n",
    "# baby OR born OR delivary\n",
    "words = [\"having\" ,\"a\" ,\"baby\"]\n",
    "df = []\n",
    "geoc=\"46.067139,11.119965,2000mi\" #1 mile\n",
    "for tweet in api.search(q = \"%20\".join(words), lang=\"en\",count = 200,geocode=geoc):\n",
    "    d = dict(username=tweet.user.name,text=tweet.text,location=tweet.user.location)\n",
    "    df.append(d)\n",
    "    print(f\"{tweet.user.name}:{tweet.text}\")"
   ]
  },
  {
   "cell_type": "code",
   "execution_count": 13,
   "metadata": {},
   "outputs": [],
   "source": [
    "with open(\"log_k.json\",\"w\") as f:\n",
    "    json.dump(df,f)"
   ]
  },
  {
   "cell_type": "code",
   "execution_count": null,
   "metadata": {},
   "outputs": [],
   "source": []
  }
 ],
 "metadata": {
  "kernelspec": {
   "display_name": "Python 3",
   "language": "python",
   "name": "python3"
  },
  "language_info": {
   "codemirror_mode": {
    "name": "ipython",
    "version": 3
   },
   "file_extension": ".py",
   "mimetype": "text/x-python",
   "name": "python",
   "nbconvert_exporter": "python",
   "pygments_lexer": "ipython3",
   "version": "3.8.3"
  },
  "toc": {
   "base_numbering": 1,
   "nav_menu": {},
   "number_sections": true,
   "sideBar": true,
   "skip_h1_title": false,
   "title_cell": "Table of Contents",
   "title_sidebar": "Contents",
   "toc_cell": false,
   "toc_position": {},
   "toc_section_display": true,
   "toc_window_display": false
  }
 },
 "nbformat": 4,
 "nbformat_minor": 4
}
